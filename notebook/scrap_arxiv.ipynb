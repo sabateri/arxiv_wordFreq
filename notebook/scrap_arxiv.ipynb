{
 "cells": [
  {
   "cell_type": "code",
   "execution_count": 1,
   "metadata": {},
   "outputs": [],
   "source": [
    "# category and total number of articles\n",
    "ARXIV_FIELDS = {\n",
    "    # maths\n",
    "    #\"math\": 10,\n",
    "    # statistics\n",
    "    #\"stat\": 10,\n",
    "    # Computer Science\n",
    "    #\"cs\": 2248,\n",
    "    #\"cs\": 10,\n",
    "    # Astrophysics\n",
    "    #\"astro-ph\": 376,\n",
    "    #\"astro-ph\": 10,\n",
    "    # High Energy Physics - Experiment\n",
    "    \"hep-ex\": 1000,\n",
    "    # Quantum Physics\n",
    "    #\"quant-ph\": 10,\n",
    "    # Quantitative Biology\n",
    "    #\"q-bio\": 10\n",
    "}"
   ]
  },
  {
   "cell_type": "code",
   "execution_count": 2,
   "metadata": {},
   "outputs": [],
   "source": [
    "ARXIV_BASE_URL = \"https://arxiv.org/list/\"\n",
    "ARXIV_ABS_URL = \"https://arxiv.org/abs/\"\n",
    "ARXIV_HTML_URL = \"https://arxiv.org/html/\""
   ]
  },
  {
   "cell_type": "code",
   "execution_count": 3,
   "metadata": {},
   "outputs": [],
   "source": [
    "import requests\n",
    "from bs4 import BeautifulSoup\n",
    "import pandas as pd\n",
    "from matplotlib import pyplot as plt"
   ]
  },
  {
   "cell_type": "code",
   "execution_count": 4,
   "metadata": {},
   "outputs": [],
   "source": [
    "def generate_arxiv_pages(fields):\n",
    "    pages = {}\n",
    "\n",
    "    for category, total_articles in fields.items():\n",
    "        # Generating URLs based on the category and total number of articles\n",
    "        category_pages = []\n",
    "        #for skip in range(0, total_articles, 25):\n",
    "        #    page = f\"{ARXIV_BASE_URL}{category}/pastweek?skip={skip}&show=25\"\n",
    "        #    category_pages.append(page)\n",
    "        page = f\"{ARXIV_BASE_URL}{category}/2024-01?skip=0&show=2000\"\n",
    "        category_pages.append(page)\n",
    "        pages[category] = category_pages\n",
    "\n",
    "    return pages"
   ]
  },
  {
   "cell_type": "code",
   "execution_count": 5,
   "metadata": {},
   "outputs": [],
   "source": [
    "arxiv_pages = generate_arxiv_pages(ARXIV_FIELDS)"
   ]
  },
  {
   "cell_type": "code",
   "execution_count": 6,
   "metadata": {},
   "outputs": [
    {
     "name": "stdout",
     "output_type": "stream",
     "text": [
      "hep-ex:\n",
      "1\n",
      "total pages:  1\n"
     ]
    }
   ],
   "source": [
    "total_pages = 0\n",
    "for category, category_pages in arxiv_pages.items():\n",
    "    print(f\"{category}:\")\n",
    "    length = len(category_pages)\n",
    "    print(length)\n",
    "    total_pages += length\n",
    "print(\"total pages: \", total_pages)"
   ]
  },
  {
   "cell_type": "code",
   "execution_count": 7,
   "metadata": {},
   "outputs": [],
   "source": [
    "def extract_ids(html_content):\n",
    "    # Parse HTML content with BeautifulSoup\n",
    "    soup = BeautifulSoup(html_content, 'html.parser')\n",
    "\n",
    "    # Find all dl tags containing dt tags\n",
    "    dl_tags = soup.find_all('dl')\n",
    "\n",
    "    # List to store extracted IDs\n",
    "    extracted_ids = []\n",
    "\n",
    "    # Iterate through dl tags\n",
    "    for dl_tag in dl_tags:\n",
    "        # Find all dt tags within the current dl tag\n",
    "        dt_tags = dl_tag.find_all('dt')\n",
    "\n",
    "        # Iterate through dt tags\n",
    "        for dt_tag in dt_tags:\n",
    "            # find the a tag that contains also an href\n",
    "            a_tag = dt_tag.find('a', attrs={'href': True}) \n",
    "            # Check if the a tag has a title containing \"Abstract\"\n",
    "            if a_tag and a_tag.get('title', '').lower() == 'abstract':\n",
    "                # Extract the 'href' attribute, which contains the ID\n",
    "                href_attr = a_tag.get('href')\n",
    "\n",
    "                # Extract the ID from the 'href' attribute\n",
    "                id_value = href_attr.split('/')[-1]\n",
    "                # Append the ID to the list\n",
    "                extracted_ids.append(id_value)\n",
    "                print(id_value)\n",
    "\n",
    "    return extracted_ids"
   ]
  },
  {
   "cell_type": "code",
   "execution_count": 8,
   "metadata": {},
   "outputs": [],
   "source": [
    "def scrape_articles_ids(page_url):\n",
    "    try:\n",
    "        # Send an HTTP GET request to the URL\n",
    "        response = requests.get(page_url)\n",
    "        # Check if the request was successful (status code 200)\n",
    "        if response.status_code == 200:\n",
    "            # Extract Ids\n",
    "            return extract_ids(response.content)\n",
    "        else:\n",
    "            print(f\"Failed to retrieve HTML content. Status code: {response.status_code}\")\n",
    "            return None\n",
    "\n",
    "    except Exception as e:\n",
    "        print(f\"An error occurred: {e}\")\n",
    "        return None"
   ]
  },
  {
   "cell_type": "code",
   "execution_count": 9,
   "metadata": {},
   "outputs": [],
   "source": [
    "# count the number of articles with IDs\n",
    "def get_articles_ids(pages_urls):\n",
    "    articles_ids = {}\n",
    "    for category, pages_urls in arxiv_pages.items():\n",
    "\n",
    "        ids = []\n",
    "        try:\n",
    "            for page_url in pages_urls:\n",
    "                ids += scrape_articles_ids(page_url)\n",
    "\n",
    "                articles_ids[category] = ids\n",
    "        except Exception as e:\n",
    "          print(f\"An error occurred: {e}\")\n",
    "\n",
    "        print(f\"{len(ids)} IDs for {category}\")\n",
    "\n",
    "    return articles_ids"
   ]
  },
  {
   "cell_type": "code",
   "execution_count": 10,
   "metadata": {},
   "outputs": [
    {
     "name": "stdout",
     "output_type": "stream",
     "text": [
      "Failed to retrieve HTML content. Status code: 403\n",
      "An error occurred: 'NoneType' object is not iterable\n",
      "0 IDs for hep-ex\n"
     ]
    }
   ],
   "source": [
    "articles_ids = get_articles_ids(arxiv_pages)"
   ]
  },
  {
   "cell_type": "code",
   "execution_count": 11,
   "metadata": {},
   "outputs": [
    {
     "name": "stdout",
     "output_type": "stream",
     "text": [
      "total number of articles: 0\n"
     ]
    }
   ],
   "source": [
    "total_ids = 0\n",
    "for _, ids in articles_ids.items():\n",
    "  total_ids += len(ids)\n",
    "\n",
    "print(f\"total number of articles: {total_ids}\")"
   ]
  },
  {
   "cell_type": "code",
   "execution_count": 12,
   "metadata": {},
   "outputs": [
    {
     "name": "stderr",
     "output_type": "stream",
     "text": [
      "[nltk_data] Downloading package punkt to /home/sabaterj/nltk_data...\n",
      "[nltk_data]   Package punkt is already up-to-date!\n"
     ]
    },
    {
     "data": {
      "text/plain": [
       "True"
      ]
     },
     "execution_count": 12,
     "metadata": {},
     "output_type": "execute_result"
    }
   ],
   "source": [
    "import html2text\n",
    "from nltk.tokenize import word_tokenize\n",
    "import nltk\n",
    "from nltk.probability import FreqDist\n",
    "\n",
    "# Download NLTK data files (only needed once)\n",
    "nltk.download('punkt')"
   ]
  },
  {
   "cell_type": "code",
   "execution_count": 13,
   "metadata": {},
   "outputs": [],
   "source": [
    "#url = 'https://arxiv.org/html/2407.12909'\n",
    "def fetch_and_tokenize(url):\n",
    "    # Fetch the HTML content\n",
    "    response = requests.get(url)\n",
    "    html_content = response.text\n",
    "\n",
    "    # Convert HTML to plain text\n",
    "    text_maker = html2text.HTML2Text()\n",
    "    text_maker.ignore_links = True\n",
    "    text = text_maker.handle(html_content)\n",
    "\n",
    "    # Tokenize the text by words\n",
    "    words = word_tokenize(text)\n",
    "    return words\n"
   ]
  },
  {
   "cell_type": "code",
   "execution_count": 14,
   "metadata": {},
   "outputs": [],
   "source": [
    "articles_ids.get('hep-ex')"
   ]
  },
  {
   "cell_type": "code",
   "execution_count": 15,
   "metadata": {},
   "outputs": [
    {
     "ename": "TypeError",
     "evalue": "'NoneType' object is not iterable",
     "output_type": "error",
     "traceback": [
      "\u001b[0;31m---------------------------------------------------------------------------\u001b[0m",
      "\u001b[0;31mTypeError\u001b[0m                                 Traceback (most recent call last)",
      "Cell \u001b[0;32mIn[15], line 7\u001b[0m\n\u001b[1;32m      5\u001b[0m subject \u001b[38;5;241m=\u001b[39m \u001b[38;5;124m'\u001b[39m\u001b[38;5;124mhep-ex\u001b[39m\u001b[38;5;124m'\u001b[39m\n\u001b[1;32m      6\u001b[0m \u001b[38;5;66;03m#arxiv_urls = ARXIV_HTML_URL+articles_ids.get(subject)\u001b[39;00m\n\u001b[0;32m----> 7\u001b[0m [arxiv_urls\u001b[38;5;241m.\u001b[39mappend(ARXIV_HTML_URL \u001b[38;5;241m+\u001b[39m s) \u001b[38;5;28;01mfor\u001b[39;00m s \u001b[38;5;129;01min\u001b[39;00m articles_ids\u001b[38;5;241m.\u001b[39mget(subject)]\n\u001b[1;32m      8\u001b[0m \u001b[38;5;66;03m#print(arxiv_urls)\u001b[39;00m\n\u001b[1;32m      9\u001b[0m all_words \u001b[38;5;241m=\u001b[39m []\n",
      "\u001b[0;31mTypeError\u001b[0m: 'NoneType' object is not iterable"
     ]
    }
   ],
   "source": [
    "# List of arXiv URLs\n",
    "arxiv_urls = []\n",
    "#for _, ids in articles_ids.items():\n",
    "#    arxiv_urls.append(ARXIV_HTML_URL+ids[0])\n",
    "subject = 'hep-ex'\n",
    "#arxiv_urls = ARXIV_HTML_URL+articles_ids.get(subject)\n",
    "[arxiv_urls.append(ARXIV_HTML_URL + s) for s in articles_ids.get(subject)]\n",
    "#print(arxiv_urls)\n",
    "all_words = []"
   ]
  },
  {
   "cell_type": "code",
   "execution_count": null,
   "metadata": {},
   "outputs": [
    {
     "name": "stdout",
     "output_type": "stream",
     "text": [
      "247\n"
     ]
    },
    {
     "data": {
      "text/plain": [
       "'https://arxiv.org/html/2401.17990'"
      ]
     },
     "execution_count": 17,
     "metadata": {},
     "output_type": "execute_result"
    }
   ],
   "source": [
    "print(len(arxiv_urls))\n",
    "arxiv_urls[246]"
   ]
  },
  {
   "cell_type": "code",
   "execution_count": null,
   "metadata": {},
   "outputs": [],
   "source": [
    "for url in arxiv_urls:\n",
    "    words = fetch_and_tokenize(url)\n",
    "    all_words.extend(words)\n",
    "\n",
    "# Output all tokenized words\n",
    "#print(all_words)"
   ]
  },
  {
   "cell_type": "code",
   "execution_count": null,
   "metadata": {},
   "outputs": [
    {
     "name": "stdout",
     "output_type": "stream",
     "text": [
      "respectively\n"
     ]
    }
   ],
   "source": [
    "print(all_words[250])"
   ]
  },
  {
   "cell_type": "code",
   "execution_count": null,
   "metadata": {},
   "outputs": [
    {
     "data": {
      "text/plain": [
       "['#',\n",
       " 'Error',\n",
       " '403',\n",
       " 'Forbidden',\n",
       " 'Forbidden',\n",
       " '#',\n",
       " '#',\n",
       " '#',\n",
       " 'Error',\n",
       " '54113',\n",
       " 'Details',\n",
       " ':',\n",
       " 'cache-fra-eddf8230052-FRA',\n",
       " '1721659255',\n",
       " '894772564',\n",
       " '*',\n",
       " '*',\n",
       " '*',\n",
       " 'Varnish',\n",
       " 'cache',\n",
       " 'server']"
      ]
     },
     "execution_count": 20,
     "metadata": {},
     "output_type": "execute_result"
    }
   ],
   "source": [
    "words = fetch_and_tokenize(\"https://arxiv.org/html/2407.14382\")\n",
    "words[-100:]\n"
   ]
  },
  {
   "cell_type": "code",
   "execution_count": null,
   "metadata": {},
   "outputs": [
    {
     "data": {
      "text/plain": [
       "[(',', 77483),\n",
       " ('{', 76416),\n",
       " ('}', 76398),\n",
       " (')', 37887),\n",
       " ('(', 37876),\n",
       " ('.', 31579),\n",
       " ('the', 29305),\n",
       " ('start_POSTSUBSCRIPT', 17165),\n",
       " ('end_POSTSUBSCRIPT', 17113),\n",
       " (']', 16107)]"
      ]
     },
     "execution_count": 21,
     "metadata": {},
     "output_type": "execute_result"
    }
   ],
   "source": [
    "#find the frequency of words\n",
    "fdist = FreqDist(all_words)\n",
    "\n",
    "#print the 10 most common words\n",
    "fdist.most_common(10)"
   ]
  },
  {
   "cell_type": "code",
   "execution_count": null,
   "metadata": {},
   "outputs": [
    {
     "name": "stdout",
     "output_type": "stream",
     "text": [
      "The total number of words without punctuation is 8\n"
     ]
    }
   ],
   "source": [
    "#create an empty list to store words\n",
    "words_no_punc = []\n",
    "\n",
    "#iterate through the words list to remove punctuations\n",
    "for word in words:\n",
    "    if word.isalpha():\n",
    "        words_no_punc.append(word.lower())\n",
    "\n",
    "#print number of words without punctuation\n",
    "print(f\"The total number of words without punctuation is {len(words_no_punc)}\")"
   ]
  },
  {
   "cell_type": "code",
   "execution_count": null,
   "metadata": {},
   "outputs": [
    {
     "name": "stdout",
     "output_type": "stream",
     "text": [
      "[('error', 2), ('forbidden', 2), ('details', 1), ('varnish', 1), ('cache', 1), ('server', 1)]\n"
     ]
    },
    {
     "data": {
      "image/png": "[encoded data removed]",
      "text/plain": [
       "<Figure size 640x480 with 1 Axes>"
      ]
     },
     "metadata": {},
     "output_type": "display_data"
    }
   ],
   "source": [
    "#find the frequency of words\n",
    "fdist = FreqDist(words_no_punc)\n",
    "\n",
    "#print the 10 most common words\n",
    "print(fdist.most_common(10))\n",
    "\n",
    "#Plot the 10 most common words\n",
    "fdist.plot(10)\n",
    "plt.show()"
   ]
  },
  {
   "cell_type": "code",
   "execution_count": null,
   "metadata": {},
   "outputs": [
    {
     "name": "stdout",
     "output_type": "stream",
     "text": [
      "['i', 'me', 'my', 'myself', 'we', 'our', 'ours', 'ourselves', 'you', \"you're\", \"you've\", \"you'll\", \"you'd\", 'your', 'yours', 'yourself', 'yourselves', 'he', 'him', 'his', 'himself', 'she', \"she's\", 'her', 'hers', 'herself', 'it', \"it's\", 'its', 'itself', 'they', 'them', 'their', 'theirs', 'themselves', 'what', 'which', 'who', 'whom', 'this', 'that', \"that'll\", 'these', 'those', 'am', 'is', 'are', 'was', 'were', 'be', 'been', 'being', 'have', 'has', 'had', 'having', 'do', 'does', 'did', 'doing', 'a', 'an', 'the', 'and', 'but', 'if', 'or', 'because', 'as', 'until', 'while', 'of', 'at', 'by', 'for', 'with', 'about', 'against', 'between', 'into', 'through', 'during', 'before', 'after', 'above', 'below', 'to', 'from', 'up', 'down', 'in', 'out', 'on', 'off', 'over', 'under', 'again', 'further', 'then', 'once', 'here', 'there', 'when', 'where', 'why', 'how', 'all', 'any', 'both', 'each', 'few', 'more', 'most', 'other', 'some', 'such', 'no', 'nor', 'not', 'only', 'own', 'same', 'so', 'than', 'too', 'very', 's', 't', 'can', 'will', 'just', 'don', \"don't\", 'should', \"should've\", 'now', 'd', 'll', 'm', 'o', 're', 've', 'y', 'ain', 'aren', \"aren't\", 'couldn', \"couldn't\", 'didn', \"didn't\", 'doesn', \"doesn't\", 'hadn', \"hadn't\", 'hasn', \"hasn't\", 'haven', \"haven't\", 'isn', \"isn't\", 'ma', 'mightn', \"mightn't\", 'mustn', \"mustn't\", 'needn', \"needn't\", 'shan', \"shan't\", 'shouldn', \"shouldn't\", 'wasn', \"wasn't\", 'weren', \"weren't\", 'won', \"won't\", 'wouldn', \"wouldn't\"]\n"
     ]
    },
    {
     "name": "stderr",
     "output_type": "stream",
     "text": [
      "[nltk_data] Downloading package stopwords to\n",
      "[nltk_data]     /home/sabaterj/nltk_data...\n",
      "[nltk_data]   Package stopwords is already up-to-date!\n"
     ]
    }
   ],
   "source": [
    "#Download and import list of stopwords\n",
    "nltk.download(\"stopwords\")\n",
    "from nltk.corpus import stopwords\n",
    "\n",
    "#list of stopwords\n",
    "stopwords_list = stopwords.words(\"english\")\n",
    "print(stopwords_list)"
   ]
  },
  {
   "cell_type": "code",
   "execution_count": null,
   "metadata": {},
   "outputs": [
    {
     "name": "stdout",
     "output_type": "stream",
     "text": [
      "The total number of words without punctuation and stopwords is 8\n"
     ]
    }
   ],
   "source": [
    "#create an empty list to store clean words\n",
    "clean_words = []\n",
    "\n",
    "#Iterate through the words_no_punc list and add non stopwords to the new clean_words list\n",
    "for word in words_no_punc:\n",
    "    if word not in stopwords_list:\n",
    "        clean_words.append(word)\n",
    "\n",
    "print(f\"The total number of words without punctuation and stopwords is {len(clean_words)}\")"
   ]
  },
  {
   "cell_type": "code",
   "execution_count": null,
   "metadata": {},
   "outputs": [
    {
     "name": "stdout",
     "output_type": "stream",
     "text": [
      "[('error', 2), ('forbidden', 2), ('details', 1), ('varnish', 1), ('cache', 1), ('server', 1)]\n"
     ]
    },
    {
     "data": {
      "image/png": "[encoded data removed]",
      "text/plain": [
       "<Figure size 640x480 with 1 Axes>"
      ]
     },
     "metadata": {},
     "output_type": "display_data"
    }
   ],
   "source": [
    "#find the frequency of words\n",
    "fdist = FreqDist(clean_words)\n",
    "#print the 10 most common words\n",
    "print(fdist.most_common(10))\n",
    "#Plot the 10 most common words\n",
    "fdist.plot(30)\n",
    "plt.show()"
   ]
  },
  {
   "cell_type": "code",
   "execution_count": null,
   "metadata": {},
   "outputs": [],
   "source": [
    "#Update the stopwords list\n",
    "stopwords_list.extend([\"said\",\"one\",\"like\",\"came\",\"back\",\"help\",\"arxiv\",\"author\",\"contact\",\"subscribe\",\"html\",\"roff\",\"ron\",\"universiteit\",\"university\",\"france\",\"belgium\",\"université\",\"bipo\",\"nantes\",\"abreu\",\"caen\",\"letters\",\"antwerpen\",\"united\",\"kingdom\",\"bristol\",\"two\",\"using\"])\n",
    "\n",
    "#create an empty list to store clean words\n",
    "clean_words = []\n",
    "\n",
    "#Iterate through the words_no_punc list and add non stopwords to the new clean_words list\n",
    "for word in words_no_punc:\n",
    "    if word not in stopwords_list:\n",
    "        clean_words.append(word)"
   ]
  },
  {
   "cell_type": "code",
   "execution_count": null,
   "metadata": {},
   "outputs": [
    {
     "data": {
      "image/png": "[encoded data removed]",
      "text/plain": [
       "<Figure size 640x480 with 1 Axes>"
      ]
     },
     "metadata": {},
     "output_type": "display_data"
    }
   ],
   "source": [
    "#find the frequency of words\n",
    "fdist = FreqDist(clean_words)\n",
    "\n",
    "#Plot the 10 most common words\n",
    "fdist.plot(30)\n",
    "plt.show()"
   ]
  }
 ],
 "metadata": {
  "kernelspec": {
   "display_name": "ml_alp_env",
   "language": "python",
   "name": "python3"
  },
  "language_info": {
   "codemirror_mode": {
    "name": "ipython",
    "version": 3
   },
   "file_extension": ".py",
   "mimetype": "text/x-python",
   "name": "python",
   "nbconvert_exporter": "python",
   "pygments_lexer": "ipython3",
   "version": "3.10.14"
  }
 },
 "nbformat": 4,
 "nbformat_minor": 2
}
